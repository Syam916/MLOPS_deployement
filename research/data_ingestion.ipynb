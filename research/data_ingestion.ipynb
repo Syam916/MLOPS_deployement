{
 "cells": [
  {
   "cell_type": "code",
   "execution_count": 1,
   "metadata": {},
   "outputs": [],
   "source": [
    "import os"
   ]
  },
  {
   "cell_type": "code",
   "execution_count": 2,
   "metadata": {},
   "outputs": [
    {
     "data": {
      "text/plain": [
       "'c:\\\\Users\\\\puttu\\\\Downloads\\\\house_price_prediction\\\\home_price_prediction\\\\research'"
      ]
     },
     "execution_count": 2,
     "metadata": {},
     "output_type": "execute_result"
    }
   ],
   "source": [
    "%pwd"
   ]
  },
  {
   "cell_type": "code",
   "execution_count": 3,
   "metadata": {},
   "outputs": [],
   "source": [
    "os.chdir(\"../\")"
   ]
  },
  {
   "cell_type": "code",
   "execution_count": 4,
   "metadata": {},
   "outputs": [
    {
     "data": {
      "text/plain": [
       "'c:\\\\Users\\\\puttu\\\\Downloads\\\\house_price_prediction\\\\home_price_prediction'"
      ]
     },
     "execution_count": 4,
     "metadata": {},
     "output_type": "execute_result"
    }
   ],
   "source": [
    "%pwd"
   ]
  },
  {
   "cell_type": "code",
   "execution_count": 5,
   "metadata": {},
   "outputs": [],
   "source": [
    "from dataclasses import dataclass\n",
    "from pathlib import Path\n",
    "\n",
    "@dataclass\n",
    "class dataIngestionConfig:\n",
    "    root_dir: Path\n",
    "    source_url: str\n",
    "    local_save : Path\n",
    "    train_data_path : Path\n",
    "    test_data_path : Path"
   ]
  },
  {
   "cell_type": "code",
   "execution_count": 6,
   "metadata": {},
   "outputs": [],
   "source": [
    "# from ensure import ensure_annotations\n",
    "# from box import ConfigBox\n",
    "# from pathlib import Path\n",
    "# from box.exceptions import BoxValueError\n",
    "# import yaml\n",
    "\n",
    "# @ensure_annotations\n",
    "# def read_yml_file(file_path:Path) -> ConfigBox:\n",
    "#     \"\"\"Read a yml file and return a ConfigBox object\"\"\"\n",
    "\n",
    "\n",
    "#     try:\n",
    "#         with open(file_path,'r') as yaml_file:\n",
    "#             content = yaml.safe_load(yaml_file)\n",
    "            \n",
    "#             return ConfigBox(content)\n",
    "\n",
    "#     except BoxValueError:\n",
    "#         raise ValueError(\"yaml file is empty\")\n",
    "#     except Exception as e:\n",
    "#         raise e\n",
    "    \n",
    "\n",
    "# @ensure_annotations\n",
    "# def create_directories(path_to_directories : list):\n",
    "#     for dir in path_to_directories:\n",
    "#         os.makedirs(dir,exist_ok=True)"
   ]
  },
  {
   "cell_type": "code",
   "execution_count": 7,
   "metadata": {},
   "outputs": [
    {
     "name": "stdout",
     "output_type": "stream",
     "text": [
      "config\\config.yaml\n"
     ]
    }
   ],
   "source": [
    "from src.constants import *\n",
    "from src.utils.common import *\n",
    "\n",
    "print(CONFIG_FILE_PATH)\n",
    "\n",
    "# read_yml_file(CONFIG_FILE_PATH)"
   ]
  },
  {
   "cell_type": "code",
   "execution_count": null,
   "metadata": {},
   "outputs": [],
   "source": []
  },
  {
   "cell_type": "code",
   "execution_count": 8,
   "metadata": {},
   "outputs": [],
   "source": [
    "class ConfigurationManager:\n",
    "    def __init__(self,config=CONFIG_FILE_PATH):\n",
    "        self.config=read_yml_file(CONFIG_FILE_PATH)\n",
    "\n",
    "        create_directories([self.config.artifacts_directory])\n",
    "        \n",
    "\n",
    "    def get_data_ingestion_config(self)->dataIngestionConfig:\n",
    "        config=self.config.data_ingestion\n",
    "\n",
    "        create_directories([config.root_dir])\n",
    "\n",
    "        data_ingestion_config=dataIngestionConfig(\n",
    "            root_dir=config.root_dir,\n",
    "            source_url=config.source_url,\n",
    "            local_save=config.local_save,\n",
    "            train_data_path= config.train_data_path,\n",
    "            test_data_path= config.test_data_path\n",
    "            \n",
    "        )\n",
    "\n",
    "        return data_ingestion_config"
   ]
  },
  {
   "cell_type": "code",
   "execution_count": 9,
   "metadata": {},
   "outputs": [],
   "source": [
    "import pandas as pd\n",
    "from src import logger\n",
    "from sklearn.model_selection import train_test_split"
   ]
  },
  {
   "cell_type": "code",
   "execution_count": 12,
   "metadata": {},
   "outputs": [],
   "source": [
    "class DataIngestion:\n",
    "    def __init__(self,config:dataIngestionConfig):\n",
    "        self.config=config\n",
    "\n",
    "    def download_file(self):\n",
    "\n",
    "        if not os.path.exists(self.config.local_save):\n",
    "            df=pd.read_csv(self.config.source_url)\n",
    "\n",
    "            df.to_csv(self.config.local_save,index=False)\n",
    "            logger.info(\"{self.config.loacal_save} is craeted\")\n",
    "\n",
    "        else:\n",
    "            logger.info('data file already exists')\n",
    "\n",
    "    def train_test_spliting(self):\n",
    "        data = pd.read_csv(self.config.local_save)\n",
    "\n",
    "        # Split the data into training and test sets. (0.75, 0.25) split.\n",
    "        train, test = train_test_split(data)\n",
    "\n",
    "        train.to_csv(self.config.train_data_path,index = False)\n",
    "        test.to_csv(self.config.test_data_path,index = False)\n",
    "\n",
    "        logger.info(\"Splited data into training and test sets\")\n",
    "        logger.info(train.shape)\n",
    "        logger.info(test.shape)\n",
    "\n",
    "        print(train.shape)\n",
    "        print(test.shape)"
   ]
  },
  {
   "cell_type": "code",
   "execution_count": 13,
   "metadata": {},
   "outputs": [
    {
     "name": "stdout",
     "output_type": "stream",
     "text": [
      "[2025-01-05 17:33:07,327: INFO: common: yaml file: config\\config.yaml loaded successfully]\n",
      "[2025-01-05 17:33:07,327: INFO: common: created directory at: artifacts]\n",
      "[2025-01-05 17:33:07,330: INFO: common: created directory at: artifacts/data_ingestion]\n",
      "[2025-01-05 17:33:07,330: INFO: 436225136: data file already exists]\n",
      "[2025-01-05 17:33:07,556: INFO: 436225136: Splited data into training and test sets]\n",
      "[2025-01-05 17:33:07,556: INFO: 436225136: (15480, 10)]\n",
      "[2025-01-05 17:33:07,556: INFO: 436225136: (5160, 10)]\n",
      "(15480, 10)\n",
      "(5160, 10)\n"
     ]
    }
   ],
   "source": [
    "try:\n",
    "    config= ConfigurationManager()\n",
    "    data_ingestion_config=config.get_data_ingestion_config()\n",
    "    data_ingestion=DataIngestion(config=data_ingestion_config)\n",
    "\n",
    "    data_ingestion.download_file()\n",
    "    data_ingestion.train_test_spliting()\n",
    "except Exception as e:\n",
    "    raise e"
   ]
  },
  {
   "cell_type": "code",
   "execution_count": 12,
   "metadata": {},
   "outputs": [
    {
     "name": "stdout",
     "output_type": "stream",
     "text": [
      "[2025-01-05 17:05:05,439: INFO: common: yaml file: config\\config.yaml loaded successfully]\n",
      "[2025-01-05 17:05:05,443: INFO: common: created directory at: artifacts]\n",
      "[2025-01-05 17:05:05,448: INFO: common: created directory at: artifacts/data_ingestion]\n",
      "[2025-01-05 17:05:05,450: INFO: 4212029908: data file already exists]\n"
     ]
    }
   ],
   "source": [
    "from dataclasses import dataclass\n",
    "from pathlib import Path\n",
    "\n",
    "@dataclass\n",
    "class dataIngestionConfig:\n",
    "    root_dir: Path\n",
    "    source_url: str\n",
    "    local_save : Path\n",
    "\n",
    "from src.constants import *\n",
    "from src.utils.common import *\n",
    "\n",
    "class ConfigurationManager:\n",
    "    def __init__(self,config=CONFIG_FILE_PATH):\n",
    "        self.config=read_yml_file(CONFIG_FILE_PATH)\n",
    "\n",
    "        create_directories([self.config.artifacts_directory])\n",
    "        \n",
    "\n",
    "    def get_data_ingestion_config(self)->dataIngestionConfig:\n",
    "        config=self.config.data_ingestion\n",
    "\n",
    "        create_directories([config.root_dir])\n",
    "\n",
    "        data_ingestion_config=dataIngestionConfig(\n",
    "            root_dir=config.root_dir,\n",
    "            source_url=config.source_url,\n",
    "            local_save=config.local_save\n",
    "        )\n",
    "\n",
    "        return data_ingestion_config\n",
    "\n",
    "class DataIngestion:\n",
    "    def __init__(self,config:dataIngestionConfig):\n",
    "        self.config=config\n",
    "\n",
    "    def download_file(self):\n",
    "\n",
    "        if not os.path.exists(self.config.local_save):\n",
    "            df=pd.read_csv(self.config.source_url)\n",
    "\n",
    "            df.to_csv(self.config.local_save,index=False)\n",
    "            logger.info(\"{self.config.loacal_save} is craeted\")\n",
    "\n",
    "        else:\n",
    "            logger.info('data file already exists')\n",
    "\n",
    "try:\n",
    "    config= ConfigurationManager()\n",
    "    data_ingestion_config=config.get_data_ingestion_config()\n",
    "    data_ingestion=DataIngestion(config=data_ingestion_config)\n",
    "\n",
    "    data_ingestion.download_file()\n",
    "except Exception as e:\n",
    "    raise e"
   ]
  },
  {
   "cell_type": "code",
   "execution_count": null,
   "metadata": {},
   "outputs": [],
   "source": []
  },
  {
   "cell_type": "code",
   "execution_count": null,
   "metadata": {},
   "outputs": [],
   "source": []
  }
 ],
 "metadata": {
  "kernelspec": {
   "display_name": "deploy",
   "language": "python",
   "name": "python3"
  },
  "language_info": {
   "codemirror_mode": {
    "name": "ipython",
    "version": 3
   },
   "file_extension": ".py",
   "mimetype": "text/x-python",
   "name": "python",
   "nbconvert_exporter": "python",
   "pygments_lexer": "ipython3",
   "version": "3.10.9"
  }
 },
 "nbformat": 4,
 "nbformat_minor": 2
}
